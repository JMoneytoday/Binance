{
 "cells": [
  {
   "attachments": {},
   "cell_type": "markdown",
   "metadata": {},
   "source": [
    "# Guía de Binance para crear sistema de inversión en criptomonedas: "
   ]
  },
  {
   "cell_type": "code",
   "execution_count": null,
   "metadata": {},
   "outputs": [],
   "source": [
    "pip install pandas"
   ]
  },
  {
   "cell_type": "code",
   "execution_count": null,
   "metadata": {},
   "outputs": [],
   "source": [
    "pip install python-binance"
   ]
  },
  {
   "cell_type": "code",
   "execution_count": null,
   "metadata": {},
   "outputs": [],
   "source": [
    "import numpy as np\n",
    "import pandas as pd\n",
    "#import yfinance as yf\n",
    "import warnings\n",
    "warnings.filterwarnings(\"ignore\")"
   ]
  },
  {
   "cell_type": "code",
   "execution_count": null,
   "metadata": {},
   "outputs": [],
   "source": [
    "from binance.client import Client\n",
    "client = Client(api_key, api_secret)"
   ]
  },
  {
   "cell_type": "code",
   "execution_count": null,
   "metadata": {},
   "outputs": [
    {
     "name": "stdout",
     "output_type": "stream",
     "text": [
      "{'symbol': 'BTCUSDT', 'price': '27468.47000000'}\n"
     ]
    }
   ],
   "source": [
    "# Get latest price from Binance API\n",
    "PRECIO_BTCUSDT = client.get_symbol_ticker(symbol=\"BTCUSDT\")\n",
    "print(PRECIO_BTCUSDT)"
   ]
  },
  {
   "cell_type": "code",
   "execution_count": null,
   "metadata": {},
   "outputs": [],
   "source": [
    "import json\n",
    "\n",
    "import csv"
   ]
  },
  {
   "cell_type": "code",
   "execution_count": null,
   "metadata": {},
   "outputs": [],
   "source": [
    "import pandas as pd\n",
    "from datetime import datetime"
   ]
  },
  {
   "cell_type": "code",
   "execution_count": null,
   "metadata": {},
   "outputs": [],
   "source": [
    "# Ejemplo:1m, 3m, 5m, 15m, 30m, 1h, 2h, 4h, 6h, 8h, 12h, 1d, 3d, 1w, \n",
    "timestamp = client._get_earliest_valid_timestamp('BTCUSDT', '1d')"
   ]
  },
  {
   "cell_type": "code",
   "execution_count": null,
   "metadata": {},
   "outputs": [],
   "source": [
    "data = client.get_historical_klines('BTCUSDT', '1d', timestamp, limit=1000) "
   ]
  },
  {
   "cell_type": "code",
   "execution_count": null,
   "metadata": {},
   "outputs": [],
   "source": [
    "df = pd.DataFrame(data, columns=['Open_Time','Open', 'High', 'Low','Close','Volume','Close_Time','Quote','Trades','Takers_buy_base','Takers_buy_quote','Ignore'])"
   ]
  },
  {
   "cell_type": "code",
   "execution_count": null,
   "metadata": {},
   "outputs": [],
   "source": [
    "df['Open_Time'] = pd.to_datetime(df['Open_Time'], unit='ms')"
   ]
  },
  {
   "cell_type": "code",
   "execution_count": null,
   "metadata": {},
   "outputs": [
    {
     "data": {
      "text/html": [
       "<div>\n",
       "<style scoped>\n",
       "    .dataframe tbody tr th:only-of-type {\n",
       "        vertical-align: middle;\n",
       "    }\n",
       "\n",
       "    .dataframe tbody tr th {\n",
       "        vertical-align: top;\n",
       "    }\n",
       "\n",
       "    .dataframe thead th {\n",
       "        text-align: right;\n",
       "    }\n",
       "</style>\n",
       "<table border=\"1\" class=\"dataframe\">\n",
       "  <thead>\n",
       "    <tr style=\"text-align: right;\">\n",
       "      <th></th>\n",
       "      <th>Open_Time</th>\n",
       "      <th>Open</th>\n",
       "      <th>High</th>\n",
       "      <th>Low</th>\n",
       "      <th>Close</th>\n",
       "      <th>Volume</th>\n",
       "      <th>Close_Time</th>\n",
       "      <th>Quote</th>\n",
       "      <th>Trades</th>\n",
       "      <th>Takers_buy_base</th>\n",
       "      <th>Takers_buy_quote</th>\n",
       "      <th>Ignore</th>\n",
       "    </tr>\n",
       "  </thead>\n",
       "  <tbody>\n",
       "    <tr>\n",
       "      <th>0</th>\n",
       "      <td>2017-08-17</td>\n",
       "      <td>4261.48000000</td>\n",
       "      <td>4485.39000000</td>\n",
       "      <td>4200.74000000</td>\n",
       "      <td>4285.08000000</td>\n",
       "      <td>795.15037700</td>\n",
       "      <td>1503014399999</td>\n",
       "      <td>3454770.05073206</td>\n",
       "      <td>3427</td>\n",
       "      <td>616.24854100</td>\n",
       "      <td>2678216.40060401</td>\n",
       "      <td>0</td>\n",
       "    </tr>\n",
       "    <tr>\n",
       "      <th>1</th>\n",
       "      <td>2017-08-18</td>\n",
       "      <td>4285.08000000</td>\n",
       "      <td>4371.52000000</td>\n",
       "      <td>3938.77000000</td>\n",
       "      <td>4108.37000000</td>\n",
       "      <td>1199.88826400</td>\n",
       "      <td>1503100799999</td>\n",
       "      <td>5086958.30617151</td>\n",
       "      <td>5233</td>\n",
       "      <td>972.86871000</td>\n",
       "      <td>4129123.31651808</td>\n",
       "      <td>0</td>\n",
       "    </tr>\n",
       "    <tr>\n",
       "      <th>2</th>\n",
       "      <td>2017-08-19</td>\n",
       "      <td>4108.37000000</td>\n",
       "      <td>4184.69000000</td>\n",
       "      <td>3850.00000000</td>\n",
       "      <td>4139.98000000</td>\n",
       "      <td>381.30976300</td>\n",
       "      <td>1503187199999</td>\n",
       "      <td>1549483.73542151</td>\n",
       "      <td>2153</td>\n",
       "      <td>274.33604200</td>\n",
       "      <td>1118001.87008735</td>\n",
       "      <td>0</td>\n",
       "    </tr>\n",
       "    <tr>\n",
       "      <th>3</th>\n",
       "      <td>2017-08-20</td>\n",
       "      <td>4120.98000000</td>\n",
       "      <td>4211.08000000</td>\n",
       "      <td>4032.62000000</td>\n",
       "      <td>4086.29000000</td>\n",
       "      <td>467.08302200</td>\n",
       "      <td>1503273599999</td>\n",
       "      <td>1930364.39032646</td>\n",
       "      <td>2321</td>\n",
       "      <td>376.79594700</td>\n",
       "      <td>1557401.33373730</td>\n",
       "      <td>0</td>\n",
       "    </tr>\n",
       "    <tr>\n",
       "      <th>4</th>\n",
       "      <td>2017-08-21</td>\n",
       "      <td>4069.13000000</td>\n",
       "      <td>4119.62000000</td>\n",
       "      <td>3911.79000000</td>\n",
       "      <td>4016.00000000</td>\n",
       "      <td>691.74306000</td>\n",
       "      <td>1503359999999</td>\n",
       "      <td>2797231.71402728</td>\n",
       "      <td>3972</td>\n",
       "      <td>557.35610700</td>\n",
       "      <td>2255662.55315837</td>\n",
       "      <td>0</td>\n",
       "    </tr>\n",
       "  </tbody>\n",
       "</table>\n",
       "</div>"
      ],
      "text/plain": [
       "   Open_Time           Open           High            Low          Close   \n",
       "0 2017-08-17  4261.48000000  4485.39000000  4200.74000000  4285.08000000  \\\n",
       "1 2017-08-18  4285.08000000  4371.52000000  3938.77000000  4108.37000000   \n",
       "2 2017-08-19  4108.37000000  4184.69000000  3850.00000000  4139.98000000   \n",
       "3 2017-08-20  4120.98000000  4211.08000000  4032.62000000  4086.29000000   \n",
       "4 2017-08-21  4069.13000000  4119.62000000  3911.79000000  4016.00000000   \n",
       "\n",
       "          Volume     Close_Time             Quote  Trades Takers_buy_base   \n",
       "0   795.15037700  1503014399999  3454770.05073206    3427    616.24854100  \\\n",
       "1  1199.88826400  1503100799999  5086958.30617151    5233    972.86871000   \n",
       "2   381.30976300  1503187199999  1549483.73542151    2153    274.33604200   \n",
       "3   467.08302200  1503273599999  1930364.39032646    2321    376.79594700   \n",
       "4   691.74306000  1503359999999  2797231.71402728    3972    557.35610700   \n",
       "\n",
       "   Takers_buy_quote Ignore  \n",
       "0  2678216.40060401      0  \n",
       "1  4129123.31651808      0  \n",
       "2  1118001.87008735      0  \n",
       "3  1557401.33373730      0  \n",
       "4  2255662.55315837      0  "
      ]
     },
     "execution_count": 13,
     "metadata": {},
     "output_type": "execute_result"
    }
   ],
   "source": [
    "df.head()"
   ]
  },
  {
   "cell_type": "code",
   "execution_count": null,
   "metadata": {},
   "outputs": [],
   "source": [
    "# Save dataframe to csv\n",
    "df.to_csv('BTCUSDT_1d.csv', index=False)\n"
   ]
  }
 ],
 "metadata": {
  "kernelspec": {
   "display_name": ".venv",
   "language": "python",
   "name": "python3"
  },
  "language_info": {
   "codemirror_mode": {
    "name": "ipython",
    "version": 3
   },
   "file_extension": ".py",
   "mimetype": "text/x-python",
   "name": "python",
   "nbconvert_exporter": "python",
   "pygments_lexer": "ipython3",
   "version": "3.10.11"
  },
  "orig_nbformat": 4
 },
 "nbformat": 4,
 "nbformat_minor": 2
}
